{
 "cells": [
  {
   "cell_type": "markdown",
   "metadata": {},
   "source": [
    "## These exercises will help you with the skills you will need in the assignments\n",
    "\n",
    "# 0. Text encoding\n",
    "\n",
    "There is a file called \"story-cp1252.txt\" you will use in this practical. It has the special open-quote and close-quote characters from code page 1252.\n",
    "\n",
    "Open it up in two different programs that will render it differently, and take a screenshot of each.\n",
    "\n",
    "Be creative! Suggestions include Windows Notepad and the more command in a CMD prompt window. On OSX, Microsoft Word (if you specify Windows Latin 1 as the encoding) can render the quotes; most other programs won't.\n"
   ]
  },
  {
   "cell_type": "markdown",
   "metadata": {},
   "source": [
    "*This cell is where you can put the screenshots*"
   ]
  },
  {
   "cell_type": "markdown",
   "metadata": {},
   "source": [
    "### Crasher\n",
    "\n",
    "The following cell will fail with a unicode exception. Fix it."
   ]
  },
  {
   "cell_type": "code",
   "execution_count": 5,
   "metadata": {},
   "outputs": [],
   "source": [
    "with open('story-cp1252.txt', encoding='cp1252') as f:\n",
    "    f.read()"
   ]
  },
  {
   "cell_type": "markdown",
   "metadata": {},
   "source": [
    "### Copying\n",
    "\n",
    "Make a copy of story-cp1252.txt in **utf-8 format** and then look at it using some other tool on your computer. (e.g.\n",
    "Windows notepad)."
   ]
  },
  {
   "cell_type": "code",
   "execution_count": 6,
   "metadata": {},
   "outputs": [],
   "source": [
    "# this is where to put your code\n",
    "with open('story-cp1252.txt', encoding='cp1252') as f:\n",
    "    with open('story-utf8.txt', 'w', encoding='utf-8') as out_f:\n",
    "        out_f.write(f.read())"
   ]
  },
  {
   "cell_type": "markdown",
   "metadata": {},
   "source": [
    "Make a copy of story-cp1252.txt in **utf-16 format**. Check the size of it in bytes. If you are using Linux or OSX, the UTF-16 file may look like it is corrupted. On Windows it will open normally."
   ]
  },
  {
   "cell_type": "code",
   "execution_count": 7,
   "metadata": {},
   "outputs": [],
   "source": [
    "# this is where to put your code\n",
    "with open('story-cp1252.txt', encoding='cp1252') as f:\n",
    "    with open('story-utf16.txt', 'w', encoding='utf-16') as out_f:\n",
    "        out_f.write(f.read())"
   ]
  },
  {
   "cell_type": "markdown",
   "metadata": {},
   "source": [
    "# 1. Simple Statistics and NLTK\n",
    "\n",
    "The following exercises use a portion of the Gutenberg corpus that is stored in the corpus dataset of NLTK. [The Project Gutenberg](http://www.gutenberg.org/) is a large collection of electronic books that are out of copyright. These books are free to download for reading, or for our case, for doing a little of corpus analysis.\n",
    "\n",
    "To obtain the list of files of NLTK's Gutenberg corpus, type the following commands:"
   ]
  },
  {
   "cell_type": "code",
   "execution_count": 8,
   "metadata": {},
   "outputs": [
    {
     "name": "stderr",
     "output_type": "stream",
     "text": [
      "[nltk_data] Downloading package gutenberg to\n",
      "[nltk_data]     /Users/kyojin/nltk_data...\n",
      "[nltk_data]   Package gutenberg is already up-to-date!\n"
     ]
    },
    {
     "data": {
      "text/plain": [
       "['austen-emma.txt',\n",
       " 'austen-persuasion.txt',\n",
       " 'austen-sense.txt',\n",
       " 'bible-kjv.txt',\n",
       " 'blake-poems.txt',\n",
       " 'bryant-stories.txt',\n",
       " 'burgess-busterbrown.txt',\n",
       " 'carroll-alice.txt',\n",
       " 'chesterton-ball.txt',\n",
       " 'chesterton-brown.txt',\n",
       " 'chesterton-thursday.txt',\n",
       " 'edgeworth-parents.txt',\n",
       " 'melville-moby_dick.txt',\n",
       " 'milton-paradise.txt',\n",
       " 'shakespeare-caesar.txt',\n",
       " 'shakespeare-hamlet.txt',\n",
       " 'shakespeare-macbeth.txt',\n",
       " 'whitman-leaves.txt']"
      ]
     },
     "execution_count": 8,
     "metadata": {},
     "output_type": "execute_result"
    }
   ],
   "source": [
    "import nltk\n",
    "nltk.download('gutenberg')\n",
    "nltk.corpus.gutenberg.fileids()"
   ]
  },
  {
   "cell_type": "markdown",
   "metadata": {},
   "source": [
    "To obtain all words in the entire Gutenberg corpus of NLTK, type the following:"
   ]
  },
  {
   "cell_type": "code",
   "execution_count": 9,
   "metadata": {},
   "outputs": [],
   "source": [
    "gutenbergwords = nltk.corpus.gutenberg.words()"
   ]
  },
  {
   "cell_type": "markdown",
   "metadata": {},
   "source": [
    "Now you can find the total number of words, and the first 10 words (do not attempt to display all the words or your computer will freeze!):"
   ]
  },
  {
   "cell_type": "code",
   "execution_count": null,
   "metadata": {},
   "outputs": [],
   "source": [
    "len(gutenbergwords)"
   ]
  },
  {
   "cell_type": "code",
   "execution_count": null,
   "metadata": {},
   "outputs": [],
   "source": [
    "gutenbergwords[:10]"
   ]
  },
  {
   "cell_type": "markdown",
   "metadata": {},
   "source": [
    "You can also find the words of just a selection of documents, as shown below. For more details of what information you can extract from this corpus, read the \"Gutenberg corpus\" section of the [NLTK book chapter 2](http://www.nltk.org/book_1ed/ch02.html), section 2.1. "
   ]
  },
  {
   "cell_type": "code",
   "execution_count": 13,
   "metadata": {},
   "outputs": [
    {
     "data": {
      "text/plain": [
       "192427"
      ]
     },
     "execution_count": 13,
     "metadata": {},
     "output_type": "execute_result"
    }
   ],
   "source": [
    "emma = nltk.corpus.gutenberg.words('austen-emma.txt')\n",
    "len(emma)"
   ]
  },
  {
   "cell_type": "code",
   "execution_count": null,
   "metadata": {},
   "outputs": [],
   "source": [
    "emma[:10]"
   ]
  },
  {
   "cell_type": "markdown",
   "metadata": {},
   "source": [
    "As we have seen in the lectures, we can use Python's `collections.Counter` to find the most frequent words of a document from NLTK's Gutenberg collection. Below you can see how you can find the 5 most frequent words of the word list stored in the variable `emma`:"
   ]
  },
  {
   "cell_type": "code",
   "execution_count": 14,
   "metadata": {},
   "outputs": [
    {
     "name": "stdout",
     "output_type": "stream",
     "text": [
      "[(',', 11454), ('.', 6928), ('to', 5183), ('the', 4844), ('and', 4672)]\n"
     ]
    }
   ],
   "source": [
    "import collections\n",
    "emma_counter = collections.Counter(emma)\n",
    "print(emma_counter.most_common(5))"
   ]
  },
  {
   "cell_type": "markdown",
   "metadata": {},
   "source": [
    "### Exercise 1.1\n",
    "*Write Python code that prints the 10 most frequent words in each of the documents of the Gutenberg corpus. Can you identify any similarities among these list of most frequent words?*"
   ]
  },
  {
   "cell_type": "code",
   "execution_count": 15,
   "metadata": {},
   "outputs": [
    {
     "name": "stdout",
     "output_type": "stream",
     "text": [
      "[(',', 11454), ('.', 6928), ('to', 5183), ('the', 4844), ('and', 4672), ('of', 4279), ('I', 3178), ('a', 3004), ('was', 2385), ('her', 2381)]\n",
      "[(',', 6750), ('the', 3120), ('to', 2775), ('.', 2741), ('and', 2739), ('of', 2564), ('a', 1529), ('in', 1346), ('was', 1330), (';', 1290)]\n",
      "[(',', 9397), ('to', 4063), ('.', 3975), ('the', 3861), ('of', 3565), ('and', 3350), ('her', 2436), ('a', 2043), ('I', 2004), ('in', 1904)]\n",
      "[(',', 70509), ('the', 62103), (':', 43766), ('and', 38847), ('of', 34480), ('.', 26160), ('to', 13396), ('And', 12846), ('that', 12576), ('in', 12331)]\n",
      "[(',', 680), ('the', 351), ('.', 201), ('And', 176), ('and', 169), ('of', 131), ('I', 130), ('in', 116), ('a', 108), (\"'\", 104)]\n",
      "[(',', 3481), ('the', 3086), ('and', 1873), ('.', 1817), ('to', 1165), ('a', 988), ('\"', 900), ('he', 872), ('of', 801), ('was', 706)]\n",
      "[('.', 823), (',', 822), ('the', 639), ('he', 562), ('and', 484), ('to', 426), (\"'\", 401), ('of', 326), ('that', 285), ('a', 275)]\n",
      "[(',', 1993), (\"'\", 1731), ('the', 1527), ('and', 802), ('.', 764), ('to', 725), ('a', 615), ('I', 543), ('it', 527), ('she', 509)]\n",
      "[(',', 4547), ('the', 4523), ('.', 3589), ('of', 2529), ('and', 2488), ('a', 2184), ('\"', 1751), ('to', 1558), ('in', 1355), ('that', 1120)]\n",
      "[('the', 4321), (',', 4069), ('.', 2784), ('of', 2087), ('and', 2074), ('a', 2074), ('\"', 1461), ('to', 1378), ('in', 1205), ('was', 1141)]\n",
      "[(',', 3488), ('the', 3291), ('.', 2717), ('a', 1713), ('of', 1710), ('and', 1568), ('\"', 1336), ('to', 1045), ('in', 888), ('I', 885)]\n",
      "[(',', 15219), ('the', 7149), ('.', 6945), ('to', 5150), ('and', 4769), ('\"', 3880), ('of', 3730), ('I', 3656), (\"'\", 3293), ('a', 3017)]\n",
      "[(',', 18713), ('the', 13721), ('.', 6862), ('of', 6536), ('and', 6024), ('a', 4569), ('to', 4542), (';', 4072), ('in', 3916), ('that', 2982)]\n",
      "[(',', 10198), ('and', 2799), ('the', 2505), (';', 2317), ('to', 1758), ('of', 1486), ('.', 1254), ('in', 1083), ('his', 986), ('with', 876)]\n",
      "[(',', 2204), ('.', 1296), ('I', 531), ('the', 502), (':', 499), ('and', 409), (\"'\", 384), ('to', 370), ('you', 342), ('of', 336)]\n",
      "[(',', 2892), ('.', 1886), ('the', 860), (\"'\", 729), ('and', 606), ('of', 576), ('to', 576), (':', 565), ('I', 553), ('you', 479)]\n",
      "[(',', 1962), ('.', 1235), (\"'\", 637), ('the', 531), (':', 477), ('and', 376), ('I', 333), ('of', 315), ('to', 311), ('?', 241)]\n",
      "[(',', 17713), ('the', 8814), ('and', 4797), ('of', 4127), ('I', 2932), (\"'\", 2362), ('to', 1930), ('-', 1774), ('.', 1769), ('in', 1714)]\n"
     ]
    }
   ],
   "source": [
    "# put your code here\n",
    "fields = nltk.corpus.gutenberg.fileids()\n",
    "for field in fields:\n",
    "    field_data = nltk.corpus.gutenberg.words(field)\n",
    "    freq_words = collections.Counter(field_data)\n",
    "    print(freq_words.most_common(10))\n",
    "    "
   ]
  },
  {
   "cell_type": "markdown",
   "metadata": {},
   "source": [
    "### Exercise 1.2\n",
    "*Find the unique words with length of more than 17 characters in the complete Gutenberg corpus.*\n",
    "\n",
    "*Hint: to find the distinct items of a Python list you can convert it into a set:*"
   ]
  },
  {
   "cell_type": "code",
   "execution_count": null,
   "metadata": {},
   "outputs": [],
   "source": [
    "my_list = ['a','b','c','a','c']\n",
    "my_set = set(my_list)\n",
    "print(my_set)\n",
    "print(len(my_set))"
   ]
  },
  {
   "cell_type": "code",
   "execution_count": 16,
   "metadata": {},
   "outputs": [
    {
     "name": "stdout",
     "output_type": "stream",
     "text": [
      "['Mahershalalhashbaz', 'Mahershalalhashbaz', 'characteristically', 'uninterpenetratingly']\n",
      "{'uninterpenetratingly', 'characteristically', 'Mahershalalhashbaz'}\n"
     ]
    }
   ],
   "source": [
    "# put your code here\n",
    "# put your code here\n",
    "list17 = [word for word in gutenbergwords if len(word) > 17]\n",
    "print(list17)\n",
    "print(set(list17))"
   ]
  },
  {
   "cell_type": "markdown",
   "metadata": {},
   "source": [
    "### Exercise 1.3\n",
    "*Find the words that are longer than 5 characters and occur more than 2000 times in the complete Gutenberg corpus.*\n"
   ]
  },
  {
   "cell_type": "code",
   "execution_count": 17,
   "metadata": {},
   "outputs": [
    {
     "name": "stdout",
     "output_type": "stream",
     "text": [
      "[('little', 2825), ('before', 3335), ('people', 2773), ('children', 2223), ('should', 2496), ('against', 2255), ('Israel', 2591)]\n"
     ]
    }
   ],
   "source": [
    "# put your code here\n",
    "list5 = [w for w in nltk.corpus.gutenberg.words() if len(w) > 5]\n",
    "freq_word = list()\n",
    "count = collections.Counter(list5)\n",
    "for w in count:\n",
    "    if count[w] > 2000:\n",
    "        freq_word.append((w, count[w]))\n",
    "print(freq_word)"
   ]
  },
  {
   "cell_type": "markdown",
   "metadata": {},
   "source": [
    "### Exercise 1.4\n",
    "*Find the average number of words in the documents of the NLTK Gutenberg corpus.*\n"
   ]
  },
  {
   "cell_type": "code",
   "execution_count": 18,
   "metadata": {},
   "outputs": [
    {
     "data": {
      "text/plain": [
       "145645"
      ]
     },
     "execution_count": 18,
     "metadata": {},
     "output_type": "execute_result"
    }
   ],
   "source": [
    "# put your code here\n",
    "s = 0\n",
    "for d in fields:\n",
    "    s += len(nltk.corpus.gutenberg.words(d))\n",
    "s//len(fields)\n"
   ]
  },
  {
   "cell_type": "markdown",
   "metadata": {},
   "source": [
    "### (Optional) Exercise 1.5\n",
    "*Find the Gutenberg document that has the longest average word length.*\n"
   ]
  },
  {
   "cell_type": "code",
   "execution_count": 19,
   "metadata": {},
   "outputs": [
    {
     "name": "stdout",
     "output_type": "stream",
     "text": [
      "Document with largest avg words length: milton-paradise.txt with word length 4.835734572682675\n"
     ]
    }
   ],
   "source": [
    "# put your code here\n",
    "avg_words_len = dict()\n",
    "for d in fields:\n",
    "    nchars = len(nltk.corpus.gutenberg.raw(d))\n",
    "    nwords = len(nltk.corpus.gutenberg.words(d))\n",
    "    avg_words_len[d] = nchars / nwords\n",
    "\n",
    "sorted_keys = sorted(avg_words_len.keys(), key=lambda x: avg_words_len[x], reverse=True)\n",
    "\n",
    "print('Document with largest avg words length:', sorted_keys[0], 'with word length', avg_words_len[sorted_keys[0]])"
   ]
  },
  {
   "cell_type": "markdown",
   "metadata": {},
   "source": [
    "### Exercise 1.6\n",
    "*Find the 10 most frequent bigrams in the entire Gutenberg corpus.*\n"
   ]
  },
  {
   "cell_type": "code",
   "execution_count": null,
   "metadata": {},
   "outputs": [
    {
     "data": {
      "text/plain": [
       "0"
      ]
     },
     "execution_count": 28,
     "metadata": {},
     "output_type": "execute_result"
    }
   ],
   "source": [
    "# put your code here\n",
    "words = nltk.corpus.gutenberg.words()\n",
    "bigrams = nltk.bigrams(words)\n",
    "\n",
    "freq_bigrams = collections.Counter(bigrams)\n"
   ]
  },
  {
   "cell_type": "code",
   "execution_count": 35,
   "metadata": {},
   "outputs": [
    {
     "data": {
      "text/plain": [
       "[((',', 'and'), 41294),\n",
       " (('of', 'the'), 18912),\n",
       " (('in', 'the'), 9793),\n",
       " ((\"'\", 's'), 9781),\n",
       " ((';', 'and'), 7559),\n",
       " (('and', 'the'), 6432),\n",
       " (('the', 'LORD'), 5964),\n",
       " ((',', 'the'), 5957),\n",
       " ((',', 'I'), 5677),\n",
       " ((',', 'that'), 5352)]"
      ]
     },
     "execution_count": 35,
     "metadata": {},
     "output_type": "execute_result"
    }
   ],
   "source": [
    "freq_bigrams.most_common(10)"
   ]
  },
  {
   "cell_type": "markdown",
   "metadata": {},
   "source": [
    "### Exercise 1.7\n",
    "*Find the most frequent bigram that begins with \"Moby\" in Herman Melville's \"Moby Dick\".*"
   ]
  },
  {
   "cell_type": "code",
   "execution_count": 41,
   "metadata": {},
   "outputs": [
    {
     "data": {
      "text/plain": [
       "[(('Moby', 'Dick'), 83), (('Moby', '-'), 1)]"
      ]
     },
     "execution_count": 41,
     "metadata": {},
     "output_type": "execute_result"
    }
   ],
   "source": [
    "# put your code here\n",
    "moby_dick_bigrams = nltk.bigrams(nltk.corpus.gutenberg.words('melville-moby_dick.txt'))\n",
    "counts = collections.Counter((w1,w2) for (w1, w2) in moby_dick_bigrams if w1 == 'Moby')\n",
    "\n",
    "counts.most_common(10)"
   ]
  },
  {
   "cell_type": "markdown",
   "metadata": {},
   "source": [
    "# 2. Text Preprocessing with NLTK\n",
    "The following exercises will ask questions about tokens, stems, and parts of speech.\n",
    "\n",
    "### Exercise 2.1\n",
    "*What is the sentence with the largest number of tokens in Austen's \"Emma\"?*"
   ]
  },
  {
   "cell_type": "code",
   "execution_count": null,
   "metadata": {},
   "outputs": [
    {
     "name": "stderr",
     "output_type": "stream",
     "text": [
      "[nltk_data] Downloading package punkt_tab to\n",
      "[nltk_data]     /Users/kyojin/nltk_data...\n",
      "[nltk_data]   Unzipping tokenizers/punkt_tab.zip.\n"
     ]
    },
    {
     "name": "stdout",
     "output_type": "stream",
     "text": [
      "275\n",
      "While he lived, it must be only an engagement;\n",
      "but she flattered herself, that if divested of the danger of\n",
      "drawing her away, it might become an increase of comfort to him.--\n",
      "How to do her best by Harriet, was of more difficult decision;--\n",
      "how to spare her from any unnecessary pain; how to make\n",
      "her any possible atonement; how to appear least her enemy?--\n",
      "On these subjects, her perplexity and distress were very great--\n",
      "and her mind had to pass again and again through every bitter\n",
      "reproach and sorrowful regret that had ever surrounded it.--\n",
      "She could only resolve at last, that she would still avoid a\n",
      "meeting with her, and communicate all that need be told by letter;\n",
      "that it would be inexpressibly desirable to have her removed just\n",
      "now for a time from Highbury, and--indulging in one scheme more--\n",
      "nearly resolve, that it might be practicable to get an invitation\n",
      "for her to Brunswick Square.--Isabella had been pleased with Harriet;\n",
      "and a few weeks spent in London must give her some amusement.--\n",
      "She did not think it in Harriet's nature to escape being benefited\n",
      "by novelty and variety, by the streets, the shops, and the children.--\n",
      "At any rate, it would be a proof of attention and kindness in herself,\n",
      "from whom every thing was due; a separation for the present; an averting\n",
      "of the evil day, when they must all be together again.\n"
     ]
    }
   ],
   "source": [
    "# put your code here\n",
    "nltk.download('punkt_tab') # this is old tokenizer, not good\n",
    "emma_text = nltk.corpus.gutenberg.raw('austen-emma.txt')\n",
    "longest_sentence = ''\n",
    "max_num_words = 0\n",
    "for s in nltk.sent_tokenize(emma_text):\n",
    "    num_words = len(nltk.word_tokenize(s))\n",
    "    if num_words > max_num_words:\n",
    "        longest_sentence = s\n",
    "        max_num_words = num_words\n",
    "\n",
    "\n",
    "print(max_num_words)\n",
    "print(longest_sentence)\n"
   ]
  },
  {
   "cell_type": "markdown",
   "metadata": {},
   "source": [
    "### Exercise 2.2\n",
    "*What are the 5 most frequent parts of speech in Austen's \"Emma\"? Use the universal tag set*"
   ]
  },
  {
   "cell_type": "code",
   "execution_count": 49,
   "metadata": {},
   "outputs": [
    {
     "name": "stderr",
     "output_type": "stream",
     "text": [
      "[nltk_data] Downloading package universal_tagset to\n",
      "[nltk_data]     /Users/kyojin/nltk_data...\n",
      "[nltk_data]   Package universal_tagset is already up-to-date!\n",
      "[nltk_data] Downloading package averaged_perceptron_tagger_eng to\n",
      "[nltk_data]     /Users/kyojin/nltk_data...\n",
      "[nltk_data]   Package averaged_perceptron_tagger_eng is already up-to-\n",
      "[nltk_data]       date!\n"
     ]
    }
   ],
   "source": [
    "# put your code here\n",
    "nltk.download('universal_tagset')\n",
    "nltk.download('averaged_perceptron_tagger_eng')\n",
    "\n",
    "emma_sents = [nltk.word_tokenize(s) for s in nltk.sent_tokenize(nltk.corpus.gutenberg.raw('austen-emma.txt'))]\n",
    "enna_tagged_sents = nltk.pos_tag_sents(emma_sents, tagset='universal')"
   ]
  },
  {
   "cell_type": "code",
   "execution_count": 50,
   "metadata": {},
   "outputs": [
    {
     "data": {
      "text/plain": [
       "[('VERB', 35717),\n",
       " ('NOUN', 32010),\n",
       " ('.', 30304),\n",
       " ('PRON', 21263),\n",
       " ('ADP', 17880)]"
      ]
     },
     "execution_count": 50,
     "metadata": {},
     "output_type": "execute_result"
    }
   ],
   "source": [
    "emma_pos =[]\n",
    "for s in enna_tagged_sents:\n",
    "    for w in s:\n",
    "        emma_pos.append(w[1])\n",
    "counter = collections.Counter(emma_pos)\n",
    "counter.most_common(5)"
   ]
  },
  {
   "cell_type": "markdown",
   "metadata": {},
   "source": [
    "### Exercise 2.3\n",
    "*What is the number of distinct stems in Austen's \"Emma\"?* "
   ]
  },
  {
   "cell_type": "code",
   "execution_count": 51,
   "metadata": {},
   "outputs": [
    {
     "name": "stdout",
     "output_type": "stream",
     "text": [
      "5335 {'educ', 'slave-trad', 'unpolish', 'sick-chamb', 'fanci', 'writing-desk', 'irksom', 'yellow', 'stray', 'sail', 'contrit', 'harmless', 'persev', 'anywhere.', 'newli', 'unobjection', 'survey', 'combat', 'rain.', 'congratulatori', 'level', 'sha', 'barouche-landau', 'firesid', 'parley', 'than', 'forgot', \"'ye\", 'unask', 'well-inform', 'pleasure.', 'reticul', '_three_', 'put-off', 'leisur', 'over-trim', 'ascending.', 'vote', 'between', 'known', 'gossip', 'inde', 'cope', 'enumer', 'sixty-f', 'imposs', 'mainten', 'might', 'hospit', 'merriment', 'trunk', 'some.', 'indeed.', '_very_', 'sung', 'wanted.', 'unprepar', 'cross', 'gover', 'commiss', 'john.', 'salting-pan', 'conceiv', 'nor', 'devil', 'orderli', 'terrifi', 'mare', 'commandingli', 'older', 'courag', 'abil', 'forgiv', 'invari', 'oh', 'eye.', 'accompani', 'pure', 'procur', 'pound', 'shut', 'incongru', 'obscur', 'mortifi', 'good-look', 'secreci', 'anna', 'ingratitud', 'redeem', 'compunct', 'analog', 'ostens', 'sex', 'penknif', 'reflect', 'learn', 'genial', 'consist', 'reappear', 'pick', 'care', 'vexat', 'whist', 'unexpect', 'prejudic', 'mostli', 'no', 'loss', 'our', 'dilatori', 'court-plaist', 'bound', 'sceptic', 'feasibl', 'conduct', 'shelter', 'unmanag', 'inconst', 'henceforward', 'rambl', 'again.', 'stagger', 'manchester-street', 'uppermost', 'plainer', 'appeared.', 'apart', 'offic', 'pride', 'infecti', 'woodhouse.', 'fastidi', 'consol', 'oliv', 'bitterli', 'formid', 'hardli', 'impress', 'add', 'box', 'meal', 'rest', 'waiter', 'glass', 'convenience.', 'yourself.', 'abstain', 'picnic', 'repress', 'us.', 'prefer', 'estim', 'brisk', 'announc', 'compar', '_you_', 'dusk', 'unfold', 'want', 'corner', 'chuse', 'peopl', 'unchang', 'complexion', 'unostentati', 'good-heart', 'appetit', 'forc', 'care.', 'create.', 'trick', 'whole-length', 'deepli', 'hourli', 'entranc', 'low.', 'contemptu', 'render', 'bonnet', 'genli', 'immateri', 'lame', 'niceti', 'caught', 'literari', 'present', 'fourteen', 'counter', 'inn', 'interpos', 'harsh', 'demerit', '_think_', 'pond', 'sure', 'pronounc', 'domest', 'cowper', 'cool', 'headach', 'entreat', 'bitter', 'dull-look', 'class', 'librari', ':', 'interf', 'somebodi', 'speedi', 'inflict', 'leg', 'if', 'begun', 'anxiou', '_may_', 'voluntarili', 'largest', 'incomplet', 'exterior', 'nervous', 'upstair', 'becaus', 'strangest', 'aimabl', 'unpretend', 'circl', 'skill', 'abroad', 'shoulder', 'topic', '_little_', '_woman_', 'persuadable.', 'heart-felt', 'wind-up', 'rooms.', 'arrived.', 'enchanting.', 'easi', 'summer', 'predict', 'safest', 'swisserland', 'necessarili', 'deservedli', 'disservice.', 'watering-plac', 'mail', 'chosen', '_your_', 'grave', 'encourag', 'sposo', 'unaffect', 'flew', 'whist-play', 'ardent', 'churchil', 'lawyer', 'dubiou', 'avert', 'favour', 'brightest', 'good-by', 'ribband', 'regain', 'cherish', 'contribut', 'retrospect', 'much.', 'bates', 'hate', 'defeat', 'flow', 'cabinet', 'press', 'know.', 'feet', 'upbraid', 'spoke', 'stealth', 'futur', 'etc.', 'hurt', 'william', 'solitari', 'phrase', 'grounds.', ';', 'fellow', 'incred', 'impos', 'unconvinc', 'qualiti', 'income.', 'declar', 'best-temp', 'fill', 'give', 'comfortless', 'vicar', 'better.', 'courtesi', 'behind', 'possess', 'strikingli', 'next', 'natur', 'forgiven', 'account.', 'token', 'describ', 'collat', 'despond', 'donwel', 'meant', 'without', 'hope', 'deject', 'learnt', 'post-offic', 'rain', 'earn', 'permit', 'join', 'overtaken', 'predica', 'ah', 'par', 'chatter', '_been_', 'randalls.', '_him_', 'unexpectedli', 'attent', 'lest', 'expos', 'here.', 'endear', 'also', 'detest', 'secur', 'labori', 'compani', 'recept', 'intrigu', 'reach', 'bewitch', 'heroin', 'million', 'alway', 'whiten', 'nearer', 'convey', 'nineteen', 'day', 'inquiri', 'worn-out', 'pull', 'a.', 'definit', 'ridden', 'man.', 'cri', 'inhabit', 'politest', 'shadow', 'ha', 'spirit', 'affection.', 'acquitt', 'giggl', 'perplex', 'fulli', 'great.', 'sofa', 'vicarage.', 'gayest', 'jewel', 'her', 'season', 'recur', 'five-and-twenti', 'exclaim', 'satisfactorili', 'worse.', 'letter.', 'formerli', 'feel', 'promin', 'finger', 'acknowledg', 'introduc', 'kitti', 'invit', 'unnatur', 'accus', 'attempt', 'bleak', 'ribbon', 'sympathis', 'complais', '_it_.', 'worship', 'looks.', 'staid', 'sat', 'teas', 'allianc', 'devic', 'overcome.', '_white-hart_', 'parcel', 'harmonis', 'feelingli', 'tittle-tattl', 'inexcus', 'presumpt', 'self-wil', 'appel', 'fling', 'tranquil', 'writing-mast', 'repeat', 'unselfish', 'undertaken', 'tear', 'alert', 'tediou', \"'t\", 'began', 'wait', 'fashion', 'presumptu', 'conclus', 'aim', 'pent', '_present_', 'forev', 'parad', 'cox', 'knee', 'subordin', '_unrequited_', 'sli', 'scatter', 'over.', 'court', 'aggrandis', 'octob', 'relaps', 'reveal', 'forbid', 'disadvantag', 'includ', 'evinc', 'lamb', 'affection', '_of_', '10,000', 'buy', 'graciou', 'concis', '_first_', 'awok', 'momentari', 'grudg', 'rice', 'porker', 'singl', 'happy-look', 'deni', 'heal', 'indispos', 'romant', 'xv', 'observation.', 'bank', 'well-grown', 'lover', 'go', 'over', 'distast', 'joy', 'humiliation.', 'commit', 'mistak', 'sheepskin', 'prize', 'danc', 'sampl', 'assist', 'pulmonari', 'mermaid', 'horror', 'volubl', 'aspers', 'author', 'compliments.', 'spoken', 'stoop', 'misl', 'salari', 'sing', 'unmark', 'schoolroom', 'infin', 'ejacul', 'coddl', 'ox', 'dwell', 'wittier', '_small_', 'supper-t', 'inconsist', 'hasti', 'cheerful-temp', 'inclin', 'whirl', 'industri', 'immediately.', 'bring', 'busiest', 'astonishingli', 'persuad', 'mourn', 'superintend', 'coldli', 'human', 'whether', 'piqu', 'portionless', 'workbag', 'son-in-law', '_will_', 'tumbler', 'genuin', 'adversari', 'keep', 'colour', 'ca', 'useabl', 'truli', 'fed', 'laugh', 'thorough', 'contrari', 'august', 'delus', 'sting', 'chapter', 'example.', 'earth', 'throat', 'transfer', 'backgammon', '_party_', 'pray', 'half-circl', 'broadli', 'unsuit', 'april', 'larg', 'interview', 'nephew', 'stir', 'firm', 'white', 'gruel', 'arrowroot', 'name.', 'sentiment', 'villain.', 'persever', 'infer', 'grove', 'shrink', 'adieu', 'superior.', 'sharer', 'lover.', 'step', 'pop', 'moment.', 'beneath', 'wretchedli', 'deduct', 'look-out', 'defici', 'wiser', 'occurr', 'ground-plot', 'gallantri', 'sheet', 'nicer', 'subscrib', 'inadequ', 'hind-quart', 'defenc', 'hundred.', 'end', 'leav', 'pass', 'fortun', 'unwelcom', 'youngest', 'comtess', 'prove', 'augur', 'cleverest', 'mock', 'mean', 'attribut', 'nature.', 'itself', 'blown', 'risk', 'louder', 'freshen', 'remark', 'holiday', 'associ', 'wish', 'rejoin', 'push', 'indol', 'ill-temp', 'wedding-cak', 'singular', 'union', 'senseless', 'murmur', 'age', 'gloriou', 'supplic', 'an', 'saunder', 'book', 'sickli', 'lord', 'dispel', 'ingenu', 'run', 'night', 'eighth', 'bewild', 'undertak', 'plump', 'transform', 'caprici', 'sold', 'hit', 'grievous', 'friday', 'smaller-s', 'weigh', 'coffee.', 'clung', 're-declin', 'misunderstood', 'get', 'eventu', 'head-teach', 'pain.', 'housekeep', 'meanwhil', 'fell', 'unsuspected.', 'away', 'got', 'lawn', 'loveli', 'gave', 'back-gammon', 'shameful.', 'good', 'done', 'unmodul', 'mend', 'tend', 'narrat', 'loneli', 'panic', 'avoid', 'self-command', 'write', 'cheerless', 'double-di', 'indoor', 'as', 'recovered.', 'recoveri', 'slept', 'de', 'notic', 'list', 'simplic', 'way.', 'happen', 'interfer', 'enrich', 'dine', 'successless', 'illiber', 'soft', 'concern', 'calmli', 'manner', 'her.', 'opinion', 'astray', 'wisest', 'pitifullest', '_sposo_', 'lazi', 'fathom', 'richard', 'broadwood', 'tea-visit', 'awaken', 'indulg', 'properti', 'worldli', 'extract', 'devot', 'entir', 'stab', 'liber', 'know', 'abundantli', 'soliloquy', 'parti', 'text', 'wretchedest', 'start', 'ecstasi', 'rapidli', 'appoint', 'urgenc', 'adopt', 'unintellig', 'condescend', 'exist', 'disapprov', 'appeal', 'elect', 'powerless', 'unavoid', 'flirt', 'sleek', 'knife', 'yard', 'grammat', 'posit', 'out-churchil', 'due', 'terribl', 'natural.', 'would.', 'win', 'preach', 'veloc', 'departur', 'distinction.', '_one_', 'plot', 'narrow', 'him', 'necess', 'either', 'country.', 'haphazard', 'papa', 'stock', 'unlik', 'success', 'stomach', 'evil', 'reason', 'easter', 'reconciliation.', 'certainti', 'storeroom', 'york', 'stood', 'were.', 'niec', 'frank', 'gather', 'morning-room', 'omit', 'wood', 'lead', 'doubtingli', 'slightest', 'eat', 'around', 'small', 'asparagu', 'border', 'infect', 'shew', 'activ', 'uneven', 'forest', 'ill-humour', 'keenli', 'demand', 'pew', 'resent.', 'gratifi', 'pretti', 'disappointment.', 'imagin', 'increas', 'henri', 'dropt', 'kindr', 'eleven', 'censur', 'true', 'meadow', '_tell_', 'do-noth', 'baly-craig', 'fault', 'strongest', 'alreadi', 'harbour', 'ninety-nin', 'warm-heart', 'heir-expect', 'kindness.', 'mr', 'exultingli', 'open', 'grown-up', 'doom', 'discont', 'requisite.', 'that.', 'week', 'heard', 'kind.', 'henceforth', 'quietli', 'find', 'justli', 'elsewher', 'ensu', 'greatli', 'six', 'parlour-door', 'reason.', 'widower-fath', 'poignant', 'unwel', 'coupl', '_when_', 'soul', 'request', 'brick', 'length', 'uninterruptedli', 'indic', 'compet', 'neatli', 'compris', '_more_', 'mistaken', 'smallest', '_would_', 'discrimin', 'case', 'strict', '``', 'commiser', 'part', 'foolishli', 'ago', 'introduct', 'unsuccess', 'store', 'needless', 'utter', 'fatal', 'glibli', 'persist', 'somewhat', 'readili', 'embarrass', 'januari', 'dixon.', 'everywher', 'suspens', \"'s\", 'muse', 'curl', 'constitut', 'robe', 'elton', 'speedili', 'mode', 'present.', 'morrow', 'stept', 'wished.', 'softest', 'interrupt', 'who', 'biliou', 'bird', 'indescrib', 'drove', 'ought.', 'hunt', 'decor', 'littl', 'paid', 'myself.', 'creation', 'dread', 'benevol', 'suffer', 'injustic', 'benefit', 'snow', 'serl', 'greatest', 'dislik', '24th', 'linguist', 'exampl', 'seminari', 'totter', 'passag', 'stroke', 'indefatig', 'relent', 'knack', 'boarder', 'ninth', 'choos', 'accid', 'humbl', 'word', 'disord', 'doctor', 'refer', 'line', 'institut', 'perfect', 'block', 'distress', 'weather', 'swept', 'quiver', 'emphasi', 'poverti', 'perceive.', 'name', 'forgav', 'slaveri', 'flurri', 'one-and-twenti', 'delight', 'drawing-room', 'incident', 'exchang', 'formal', 'teacher', 'denial', 'subsist', 'chamber', 'pour', 'twenty-on', 'pensiv', 'venic', 'charg', 'uninterrupt', 'walk', 'coast', 'dixon', 'tenderest', 'drown', 'basket', 'abhor', 'wise.', 'sixteen', 'disgust', 'brunswick', 'unsaid', 'fewer', 'ungraci', 'pet', 'shrunk', 'disguis', 'council', 'weak', 'family-est', 'good.', 'advis', 'prudent', 'dork', 'regularli', 'discuss', 'inconveni', 'screw', 'apt', 'invention.', 'deny.', 'gentleman', 'arm', 'befriend', 'portion', 'curtsey', 'brought', 'brillianc', 'abrupt', 'vii', 'ventur', 'cost', 'regardless', 'strictli', 'let', 'clean', 'voluntari', 'indisposit', 'dozen', 'ambit', 'exclus', 'citizen', 'fifti', 'individu', 'hold', 'struggl', 'recurr', 'knightley', 'insincer', 'offenc', 'hairdress', 'pack', 'employ', 'clearer', 'charad', 'sigh', 'engrav', 'spruce-beer.', 'faultless', 'dearest', 'heroism', 'guinea', 'dart', 'laughed.', 'fuss', 'inquir', 'effectu', 'huswif', 'veri', 'fuller', 'each', 'pianofort', 'enviabl', 'allay', 'object', 'spectacles.', 'deceas', 'reproof', 'unnecessarili', 'embroc', 'obliging.', 'quit', 'model', 'coming.', 'deposit', 'pair', '_respect_', 'clamor', 'jumbl', 'sunday', 'neat', 'said', 'interv', 'rightli', 'hautboy', 'solitud', 'hair', 'al-fresco', 'convinc', 'hugh', '_broke_', 'pert', 'muster', 'stimul', 'milman', 'forbear', 'his.', 'excus', 'mapl', 'sure.', 'kept', 'politeness.', 'promot', 'anxious', 'condescens', '_joint_', 'mysteri', 'preced', 'insuper', 'seven-and-twenti', 'mere', 'nativ', 'preconceiv', 'submit', 'urgent', 'consult', '_gentleman_', 'hint', 'suspici', 'blunt', 'alik', 'influenc', 'excess', 'consciou', 'afterward', 'explor', 'depreci', 'misconduct', '_particular_', 'windsor-juli', '_perfection_', 'embarrassed.', 'changeable.', 'put', 'contain', 'foretold', 'then', 'male', 'renounc', 'isabella', 'sometim', 'injuri', 'placid', 'coachman', 'restor', 'allus', 'romanc', 'ala', 'went', 'practic', 'elegance.', 'sketch', 'excel', 'healthi', 'divest', 'indistinct', 'equivoc', 'undervalu', 'pursu', 'pain', 'tast', 'displeasure.', 'e.', 'd', 'be', 'sneer', 'abod', 'chilblain', 'forestal', 'significantli', 'about', '_recollecting_', 'slightli', 'ungeni', 'expiat', 'self-import', 'under', '26th', 'slice', 'personag', 'apothecari', 'superad', 'capac', 'sweetest', 'atmospher', '_compliments_', 'destini', 'one', 'dialogu', 'ensur', 'elm', 'twinkl', 'offence.', 'merest', 'borrow', 'fortune.', 'quarrel', 'repeatedli', 'unmirth', 'action', 'magnifi', 'do-al', 'peep', 'read', 'pretend', 'likelihood', 'freez', 'another.', 'endang', 'match', 'accent', 'dealt', 'defect', 'leviti', 'serv', 'overpow', 'through', 'twenti', '_that_', 'chanc', 'impend', 'provok', 'motto', 'insinu', 'finest-look', 'quieter', 'unclos', '_alone_', 'acquiesc', 'amiabl', 'crisi', 'cherri', 'envi', 'feminin', 'enmiti', 'drop', 'deem', 'lose', 'conduct.', 'intern', 'took', 'becom', 'treacheri', 'criticis', 'ampl', 'unmarri', 'privi', 'coxcomb', 'spectacl', 'misfortun', 'fervour', 'farther.', 'mother', 'nash', 'away.', 'gentil', 'bless', 'affabl', 'slipperi', 'experi', 'continu', 'turn', 'unluckili', 'woodhouse-', 'flesh', 'togeth', 'least.', 'formerly.', 'pitiabl', 'restraint', 'conservatori', 'is.', 'spend', 'carriag', 'imput', 'dismal', 'persuas', 'proportion', 'weaken', 'suffici', 'bad', 'steak', 'knew', 'mile', 'fairest', 'etc', 'implor', 'flourish', 'best', 'occasion', 'toler', 'dining-room', 'garter', 'resent', 'represent', 'hood-wink', 'half', 'relish', 'nineti', 'thought', 'wound', 'unwilling', 'habit', 'occas', 'amount', 'alone.', 'congratulations.', 'sleeti', 'gout', 'detail.', 'post-hors', 'harm', 'eagerli', 'presenc', 'nobl', 'inherit', 'infantri', 'highest', 'richli', 'everi', 'grey', 'content', 'pay', 'repent', 'women', 'ingrati', 'taste.', 'much', 'enabl', 'horrid', 'unbroken', 'refin', 'friend', 'horsewoman', 'involuntari', 'unreason', 'concealment.', 'brother', 'readier', '_way_', 'affix', 'do', 'v', 'cousin', 'patienc', 'certainli', 'likely.', 'lady-lik', 'conniv', 'tyrann', 'felt.', 'similar', 'i.', 'dr.', 'dull', 'card-parti', 'perfectli', 'emot', 'sweet-cak', 'amiti', 'gentleman.', 'cogit', 'muffin', '_letting_', 'alon', 'espali', 'sum', 'prodigi', 'sake', 'delay', 'bit', 'frame', 'avail', 'thing', 'could.', 'charm', 'lurk', 'outstep', 'lengthen', 'detect', 'supper', 'affect', 'perri', 'unanswer', 'concurr', 'appl', '_adair_', 'total', 'social', 'merchant', 'believ', 'reconcili', 'fondest', 'quadril', 'incompat', 'lieu', 'vex', 'cried.', 'utmost', 'coarser', 'intoler', 'speak.', '_moment_', 'chatti', 'carriage-hors', 'style', '_say_', 'ball-room', 'needlework', 'divid', 'sir', 'english', 'histori', 'folli', 'it.', 'steeper', 'self-controul', 'imped', 'perpetu', 'must', 'raptur', 'struck', 'nod', 'journey', 'weaker', 'doe', 'thaw', 'with', '_not_', 'horse-back', 'malt', 'impedi', 'what', 'often', 'hoars', 'vent', 'vast', 'dissolv', 'backgammon-t', 'shell', 'thick-head', 'bone', 'cure', 'elizabeth', 'gingerbread', 'been.', 'subdu', 'supper-room', 'improprieti', 'polish', 'freedom', 'manoeuvr', 'convers', 'richardson', 'chief', 'to', 'proceed', 'smoke', 'difficulti', 'repel', 'three-and-twenti', '.', 'kindli', 'minut', 'bride-peopl', 'already.', 'offer', 'temptat', 'remiss.', 'circumspect', 'indign', 'creatur', 'proper', 'comparison', 'annoy', 'bad.', 'ostler', 'leather', 'utmost.', 'parlour-board', 'completest', 'piquet', 'zeal', 'bickerton', 'pattern', 'out', 'openli', 'dissuad', 'fruit', 'encumbr', 'chees', 'be.', 'acr', 'maintain', 'evening-parti', 'pretens', 'cultur', 'hymen', 'relief', '23rd', 'paus', 'taller', 'unexpens', 'taken', 'ever', 'western', 'truth', '_eighteen_', 'bodi', 'goings-on', 'gilbert', 'independ', 'enjoy.', 'intend', 'pang', 'sufficient.', 'finess', 'resembl', 'youth', 'discreetli', 'novemb', 'pleasant.', 'ask', 'conjectur', 'act.', 'proport', 'violent', 'contrast', 'fresh', 'lace', 'aliv', 'talker', 'howev', 'vaniti', 'stop', 'unimped', 'irresolut', 'ridicul', '_thoughts_', 'theodor', 'friendli', 'surpris', 'undesign', 'variat', 'mercantil', 'unbidden', 'share', 'uncouth', 'plan.', 'dole', 'insan', 'till', 'spontan', 'nothing-mean', 'perforc', 'tide', 'remov', 'twentieth', '_bride_', 'wise', 'dul', 'floor', 'ancient', 'spruce-b', 'sorry.', 'only.', 'wall', 'brighter', 'divert', 'dispar', 'suspect', 'fluctuat', 'father-in-law', 'balanc', 'dilig', 'christma', 'do.', 'eyebrow', '_wanted_', 'elton.', 'pardon', 'asid', 'brunt', 'crush', 'john', 'conceal', 'yourself', 'stupid', 'letter', 'stair', 'refrain', 'three-quart', 'harriet', 'mighti', 'churchwarden', 'ear', 'material.', 'likewis', 'curv', 'beg', 'furnish', 'troublesom', 'pleasant', 'sore-throat', 'proudest', 'plantat', 'supposit', 'councillor', 'recal', 'unison', 'to.', 'rule', 'glove', 'particular', 'consid', 'plain', 'days.', 'popularity.', 'bar', 'or', 'key', 'designedli', 'warmer', 'foresight', 'listless', 'drew', 'stopt', 'credit', 'becam', 'promptitud', 'uncivil', '_with_', 'hous', 'shall', 'triumphantli', 'fasten', 'useless', 'ceil', 'eclat', 'recov', 'group', 'regard', 'lower', 'well-br', 'morning.', 'eighteen', 'whim', 'neither', 'copi', 'vision', 'beyond', 'clearest-head', 'wool', 'medit', 'returned.', 'suffered.', 'climat', 'assur', 'cooler', 'displeasur', 'determin', 'weymouth', 'avowedli', 'dreamt', 'depart', 'charact', 'gown', 'crosser', 'taylor.', 'alacr', 'of', 'effect.', 'selfish', 'transact', 'jump', 'pretty-spoken', 'poem', 'good-humour', 'southward', 'highli', 'rack', 'gala-day', 'occur', 'asham', 'enough.', 'abus', 'abov', '_was_', 'instrument', 'punish', 'advances.', 'realiti', 'amongst', 'sup', 'retir', 'authoris', 'quicken', 'son', 'tree', 'patro', 'threadbar', 'except', 'giver', 'seri', 'turkey', 'half-glass', 'will', 'dark', 'disappoint', 'heretofor', 'supplanted.', 'scrape', 'further', 'sideboard', 'player', 'birthday', 'whenev', 'elegantli', 'flatteri', 'decre', 'lowest', 'humourist', 'newspap', 'bake', 'entangl', '_repentance_', 'dust', 'imit', 'respect', 'pocket', 'rather', 'self-content', 'churchill.', 'bought', 'bate', 'satisfaction.', 'deeper', 'few', 'unequivoc', 'merci', 'finest', 'tom', 'like', 'school', 'brutal', 'unwholesom', 'club', 'i', 'transit', 'understand', 'flavour', 'hour.', 'escape.', 'geographi', 'caus', 'heavi', 'essenti', 'stabl', 'yield', 'rencontr', 'inadmiss', 'briefli', 'greensward', 'vouch', 'languid', 'confess', 'station', 'expediti', 'friend.', 'counti', 'composedli', 'profession', 'page', 'card-tabl', 'channel', 'rush', 'valetudinarian', 'terror.', 'clemenc', 'five', 'marriag', 'conscious', 'ourselv', 'kinder', 'candidli', 'rang', 'reviv', 'governess-trad', 'fix', 'celleri', 'perman', 'hem', '_caro_', 'set', 'refuse.', 'penuri', \"ma'am\", 'tidi', 'admit', 'late', '_refused_', 'secresi', 'arrang', 'number', 'unworthi', 'fair', 'misconstru', 'kingston', 'assert', 'aladdin', 'derang', 'within', 'mind', 'london', 'half-way', 'confidant', 'perfection.', 'remain', 'guess', 'servant', 'long-stand', 'strive', 'height', 'outweigh', 'audibl', '?', 'iii', 'mitchel', 'liveliest', 'ill-bestow', 'shaken', 'winter', 'smooth', 'disingenu', 'trifling.', 'centr', '_almost_', 'physic', 'wife.', 'attest', 'behold', 'equal.', '_as_', 'bed-ridden', 'eatabl', 'spoon', 'humph', 'whose', 'incom', 'dusti', 'scale', '_sensation_', 'instanc', 'oper', 'humili', 'occupi', 'guidanc', 'overs', 'hannah', 'over-throw', 'had', 'bond', 'charmingli', '_at_', 'cast', 'enquir', 'piec', '1816', 'knive', 'vanity-bait', 'size', 'foreseen', 'tupman', ')', 'underbr', 'handsomest', 'unnot', 'singing.', 'invalu', 'awe', 'frank.', 'retirement.', 'shakespear', 'windsor', 'sandwich', 'preciou', 'nice', 'pleasur', 'artific', 'seduc', 'month', 'realis', 'scold', 'march', 'night.', 'ill-equip', 'soon.', 'send', 'walli', 'committed.', 'beat', 'gipsi', 'emphat', 'sweet-temp', '_her_.', 'ration', 'tranquillis', 'unless', 'counsel', 'simpl', 'palliat', 'intermedi', 'somewher', 'proverb', '_part_', 'disgrac', 'impertin', 'row', 'feelings.', 'relic', 'earnest', 'mark', 'unqualifi', 'explan', 'pleasanter.', 'overlook', 'longer', 'compress', 'ill-luck', 'energet', 'bow-window', 'whichev', 'mine', 'protract', 'arm.', 'liberal.', 'sun', 'xi', 'shepherd', 'succeed', 'landscap', 'local', 'say', 'specimen', 'protest', 'endeavour', 'to-morrow.', 'unconsci', 'offici', 'substanc', 'pause.', 'asund', 'banish', 'turnip', 'rub', 'fals', 'stand', 'shortly.', 'cautious', 'cloth', 'past', 'cole', 'mani', 'receipt', 'wish.', 'knowledg', 'effus', 'lectur', 'had.', 'myself', 'shine', 'twenty-f', 'approach', '_time_', 'walk.', 'etern', 'harp', 'carriage.', 'nearer.', 'illegitimaci', 'penanc', 'inconsider', 'ani', 'drill', 'slight', 'invent', 'wander', 'strenuous', 'wonder', 'spring', 'plant', 'child', 'celibaci', 'unspent', 'readi', 'sort', 'repres', 'indiscret', 'revers', 'silver', 'traffic', 'birmingham', 'while', 'answer', 'wrapt', 'rel', 'thither', 'dead', 'multipl', 'shawl', 'mimic', 'candour', 'lately.', 'found', 'thoroughli', 'farmer', 'stanza', 'led', 'safe', 'ulcer', 'outcri', 'captiou', 'trait', 'comparison.', 'trivial', 'midnight', 'st.', 'tongu', 'encumb', 'south', 'explain', 'strongli', 'satisfact', 'just', 'professedli', 'convincing.', 'correct.', 'smallridg', 'silli', 'vow', 'right', 'fortitud', 'ordinarili', 'reward', 'magnific', 'basi', 'extrem', 'milder', 'stabil', 'countri', 'method', 'solemn', 'so-and-so', 'deserve.', 'nobil', 'confid', 'cure.', 'guid', 'addit', 'repast', 'angel', 'prejud', 'trembl', 'extend', 'geniu', 'garrick', 'their', 'em-ma.', 'lodg', 'misinterpret', 'enviou', 'fears.', 'dexter', 'peac', 'shod', 'judici', 'latest', 'count', 'use', 'hi', 'bragg', 'broader', 'amiss', 'prison', 'x', 'undertook', 'puff', 'behind-hand', 'behindhand', 'carri', 'vanities.', 'pictur', 'harriet.', 'weston.', 'despoil', 'woods.', 'farm', 'difficult', 'coral', 'oddest', 'helpless', 'exagger', 'camp-fev', 'partak', 'tie', 'stone', 'bride', 'suffic', 'iv', 'wept', 'auspic', 'innoc', 'half-second', 'rariti', 'laps', 'admir', 'lost.', 'verdur', 'quicker', 'does.', 'intim', 'origin', 'mischiev', 'sarcast', 'abdi', 'neglig', 'grew', 'twelvemonth', 'infant', 'fish-pond', 'collect', 'hat', 'him.', 'recant', 'shark', 'pleasantli', 'ring', 'univers', 'dinner-visit', 'profess', 'war', 'air', 'amid', 'hardi', 'hazard', 'nearli', 'articul', 'coles.', 'misunderstand', 'mother-in-law', 'horror-struck', 'trouble.', 'although', 'poultry-hous', 'destin', 'asleep', 'intelligible.', 'dearer', 'accost', 'dwelt', 'miseri', 'vacat', 'rous', 'avenu', 'windsor.', 'indel', 'for', 'vainli', 'altogeth', 'road.', 'sight.', 'envy.', 'worst', 'spite', 'hard', 'delic', 'stake', 'famou', '_told_', 'cours', 'sweet', 'ill-judg', 'disagre', 'delicaci', 'sinc', 'faint', '_try_', 'sorrow', 'breakfast', 'propens', 'comprehens', 'thrown.', 'whi', 'exempt', 'rave', 'wan', 'wick', 'smaller', 'plagu', 'memori', 'paper', 'moment', 'solicit', 'such', 'contempl', 'gone.', 'admiss', 'robert', 'betray', 'digniti', 'society.', 'afternoon', 'upper', '_miss_', 'therefor', 'constantli', 'frost', 'blush', 'affair', 'unsuspici', 'horribl', 'liabl', 'thin', 'drive', 'amity.', 'bore', 'purs', 'acut', 'ran', 'arriv', 'supersed', 'long', 'haunt', 'steadier', 'perhaps.', 'me.', 'ladylik', 'propheci', 'darl', 'mildest', 'virtu', 'security.', 'opportun', \"'\", 'blameless', '_housebreaking_', 'repuls', 'reluct', 'shi', 'mad', 'talk', 'notion', 'oppos', 'treatment', 'downright', 'street', 'compliment', 'plausibl', 'nursery-maid', 'drawing-up', 'form.', 'petticoat', 'woeful', 'spoil', 'may', 'suspicion', 'acquit', 'high', 'jefferey', 'figure-piec', 'poorer', 'correct', 'bella', 'thoughtless', 'can', 'ann', 'bustl', 'refus', '_philip_', 'no.', 'stare', 'younger', 'moonlight', 'gladli', 'liberti', 'gaieti', 'affirm', 'hypocrisi', 'however.', 'across', 'tall', 'closet', 'mortif', '_named_', 'sensat', 'poison', 'feebl', 'heat', 'musician', 'wrap', 'dances.', 'unreserv', 'pen', 'uncomfort', 'sedat', 'eyelash', 'tooth', 'face', 'predomin', 'sagac', 'cobham', 'intellectu', 'vexati', 'truer', '_has_', 'flutter', 'hatr', 'possibl', 'where', 'dreadful.', 'woollen-drap', 'revolt', 'doubl', 'hear.', 'hurri', 'fag', 'disciplin', 'interposit', 'ad', 'warmest', 'steadili', 'connexion', 'suppos', 'inspirit', 'attain', 'should', 'weari', 'critic', 'variou', 'vulgar', 'apple-tart', 'your', 'enorm', 'eye-lash', 'meet', 'signific', 'donkey', 'june', 'illumin', 'sit', 'enchant', 'grant', '_have_', 'bow', 'out.', 'undesignedli', 'amaz', 're-urg', 'minist', 'gang', 'queen', 'better', 'against', 'so', 'stormi', 'irritate.', 'again', 'evening.', 'thrive', 'new', 'been', '7th', 'timber', 'els', 'bare', 'bed-room', 'counteract', 'fail', 'volum', 'ceremoni', 'separ', 'esteem', 'tramper', 'insol', 'captiv', 'hire', 'perform', 'wive', 'so.', 'insist', 'highburi', 'closest', 'beaver', 'tippet', '_the_', 'beam', 'unquestion', \"d'alman\", 'pronoun', 'regiment', 'deserv', '_home_', 'secret', 'concern.', 'prepossess', 'shed', 'reliev', 'untoward', 'seclus', 'seren', 'merit.', 'half-hour', 'travel', 'glad', 'held', 'behalf', 'argu', 'doth', 'guilt', 'clerk', 'influenza', 'behaviour.', 'entreati', 'pencil', 'wedg', 'hedg', 'indebt', 'sunk', 'fact', 'point', 'drunk', 'pursuit', 'fare', 'health', 'vers', '_addition_', 'eldest', 'quarter', 'impuls', 'uneasy.', 'danger.', 'from', 'form', '_thing_', 'miser', 'remot', 'sell', 'all-suffici', 'livelihood', 'half-length', 'unfortun', 'disposit', 'great', 'steep', 'preval', 'question', 'butter', 'sentenc', 'folly.', 'pilfer', 'side.', 'consciousness.', 'princip', 'bred', 'roundabout', 'well-written', 'they', 'anim', 'ford.', 'termin', 'lessen', 'string', 'weight', 'allow', 'extens', 'cheek', 'cultiv', 'impel', 'all.', 'scarc', 'k.', 'fetch', 'disclaim', 'eager', 'crayon', 'apparatu', 'faith', 'deed', 'in-between', 'appropri', '_all_', 'constancy.', 'demur', 'prolong', 'quiet', 'onc', 'fairfax', 'kind', 'rout', 'percept', 'hitherto', 'holyhead', 'third', 'hereaft', 'side-gl', 'retort', 'home-bak', 'sick', 'quest', 'bath', 'enjoy', 'were', 'idl', '_greater_', 'in', 'speciou', 'composur', 'grossli', 'papa.', 'wet.', 'jealousy.', 'submiss', 'smilingli', 'highbury.', 'matern', 'luxuri', 'm', '_what_', 'health.', 'drizzl', 'well-look', 'childhood', 'wound.', 'apiec', 'engross', 'xii', 'kind-heart', 'non-exist', 'adelaid', 'slow', 'memorandum', 'shorten', 'pervert', 'endur', 'previou', 'reprehens', 'on.', 'presum', 'guidabl', 'a', 'previous', 'flake', 'lesson', 'guileless', 'groundless', 'unequal', '_shall_', 'deafer', 'pressur', 'thinner', '_court_', '_be_', 'usual.', 'last', 'almost', 'symptom', 'escort', 'woman', 'feign', 'releas', 'patern', 'written', 'job', 'decid', 'ponder', 'sublim', 'puriti', '_blunder_', 'corrobor', 'thank', 'disapprob', 'wake', 'dictat', 'gaze', 'scissor', 'feared.', 'artlessli', ',', 'odd', 'burn', 'diet', 'hand', 'foot', 'seem', 'septemb', 'sanguin', 'cover', 'born', 'grown', 'to-morrow', 'grammarian', 'them.', 'postur', 'part.', 'twelv', 'not', 'entitl', 'beet-root', 'protect', 'hero', 'saffron', 'decidedli', 'windi', 'patriot', 'clever', 'tempt', 'self-interest', 'wrong', 'deliber', 'proprietor', 'reconcil', 'boot', 'front-door', '--', 'err', 'am.', 'credul', 'richmond', 'reinstat', 'chain', 'yet', 'strengthen', 'indiffer', 'suppli', 'year', 'aris', 'garden', 'measl', '_assistance_', '_amor_', 'martin', 'inform', 'unfeel', 'incumb', '_elton_', 'chair', 'fame', 'nomin', 'complianc', 'silversmith', 'obviat', 'mechan', 'detach', 'militia', 'monarch', 'office-door', 'flatter', 'report', 'archli', 'see', 'despatch', 'scrambl', 'flush', 'twofold', 'enscomb', 'capabl', 'indifferent.', 'west', 'indelicaci', 'into', 'lenient', 'make.', 'circular', 'drunken', 'surprized.', 'houseroom', 'compat', 'dancer', 'collectedli', 'riddle-book', 'wakefield', 'complaint', 'spirit.', 'habit.', 'honest', 'broken', 'swiftli', 'comfort', 'longest-sight', 'deliv', '_us_', 'hardship', 'afflict', 'matter', 'mixtur', 'first-rat', 'wright', 'sole', 'properli', 'approb', 'joyou', 'austen', 'philosoph', 'judg', 'swell', 'ters', 'nurs', 'unpleas', 'water', '_world_', 'prime', 'beheld', 'lung', 'varieti', 'near', 'pertinac', 'occasion.', 'obstin', 'life.', 'advanc', 'languag', 'term', 'docil', 'man', 'seen', '_now_', 'perturb', '_to_', 'courtship', 'all', 'elig', 'realli', 'table.', 'captious.', 'joyous', 'blinder', 'deceiv', 'tax', 'four', 'unvari', 'blood', 'after', 'character.', 'speed.', 'luckiest', 'recours', 'dwindl', 'tiresom', 'frozen', 'summer-hous', 'baronn', 'overheard', 'situat', 'was.', 'still', 'fore-shortening.', 'permiss', 'kite', 'hall', 'specul', 'later', '_felt_', 'waver', 'shame', 'doat', 'caro', 'mutual', 'selina', 'regular', 'wingfield', 'dinner', 'frequent', 'pitcher', 'preclud', 'mischief', 'agricultur', 'oppress', '_compassion_', '_happily_', 'fricasse', 'actual', 'screen', 'viii', 'affectedli', 'scotland', 'odiou', 'desperate.', '_purport_', \"o'clock\", 'alloy', 'complain', 'daughter', 'over-car', 'beaufet', 'rumin', 'articl', 'earlier', 'augusta', 'pretty.', 'zigzag', 'cling', 'conscienc', 'sever', 'fortnight.', 'fruitless', 'plaintiv', 'glances.', 'cautiou', 'henc', 'settl', 'honoured.', 'mania', 'relinquish', 'goddard', 'goe', 'contradict', 'hue', 'medicin', 'strawberri', 'saddl', 'came', 'expedi', 'apple-dumpl', 'gestur', 'divin', 'involv', 'frown', 'prologu', 'vacanc', 'unnecessari', 'mouth', 'higher', 'amused.', 'philipp', 'verbal', 'manag', 'hastili', 'poor', '_mrs._', 'hot', 'ill-br', 'intermiss', 'edit', 'car', 'diffus', 'deciph', 'embodi', 'casement', 'forebod', 'regretted.', 'yorkshir', 'caroline.', 'field', 'dessert', 'vaunt', 'neighbour', 'commonli', 'chariti', 'art', 'solitarili', '_treasures_', 'third-rat', 'abruptli', 'result', 'love', 'poultry-yard', 'debat', 'equal', '_ship_', 'ill-wil', 'forcibl', 'wrote', 'obedi', 'gold', 'move.', 'desert', 'moral', 'wil', 'grievou', 'witti', 'throw', 'opposit', 'four-and-twenti', 'power', 'discharg', 'movement', 'lone', 'parent', 'vagari', 'disdain', 'fidgeti', 'chang', 'and', 'glad.', 'impud', 'inch', 'bulki', 'befor', 'attentions.', 'requir', 'idol', 'heaven', 'unusu', 'vicarag', 'conveni', '_cause_', 'desultori', 'chance.', 'signifi', 'arrear', 'rude', 'hang', 'infinit', 'extric', 'wit', 'fluentli', 'thereabout', 'defer', 'kingdom', 'supplant', 'discov', 'space', 'mind.', 'verifi', 'display', 'thick', 'cruel', 'chicken', 'quantiti', 'trophi', 'there', 'suspected.', 'that', 'felt', 'belong', 'belief', 'unmerit', 'old', 'babi', 'dire', 'justest', 'pleas', 'home-farm', 'nay', 'infatu', 'respit', 'vari', 'trial', 'distinctli', 'delici', 'incomprehens', 'smell', 'passabl', 'bargain', 'obstacl', 'grandmama', 'secretli', 'flock', 'strang', 'attract', 'urg', 'dearli', 'lent', \"d'ostali\", 'inexpress', 'weston', 'reproach', 'parsnip', 'sea', 'dure', 'infatuation.', 'repetit', 'packet', 'eyes.', 'hors', 'cramp', '(', 'ye', 'wreath', 'suit', '_that_.', 'perhap', 'extinct', 'deceit', 'confess.', 'speak', 'flower', 'miserable.', 'fog', 'inconvenient.', 'unnecessarily.', 'dawdl', 'else.', 'invalid', 'precaut', 'dear', 'said.', 'progress', 'wax-candl', 'unfeelingli', 'intellig', \"knightley's.\", 'enigma', 'overboard', 'feebli', 'burst', 'fro', 'indulgence.', 'juli', 'calm', 'en', 'deprec', 'palat', 'sensibl', 'grand', 'latter', 'tour', 'glanc', 'boast', '_she_', 'neighbours.', 'exactli', 'yesterday.', 'undon', 'walnut', 'twice', 'resid', 'consider', 'justic', 'terror', 'grow', 'queer', 'resolut', 'along', 'altern', 'modesti', 'indiscreetli', 'incap', 'dislike.', 'young', 'shortli', 'nobody.', 'otway', 'with.', 'ill-health', '_misery_', 'touchston', 'wedding-day', 'chimney', 'resist', 'treasur', 'nowher', 'teaz', 'transcrib', 'secondari', 'puls', 'score', 'irresist', 'confound', 'irregular', 'somehow', 'amidst', 'composit', 'util', 'fini', 'condit', 'gaiter', 'acquittal.', 'licenti', 'congratulation.', 'gentleman-lik', 'favour.', 'heartili', '_married_', 'everyday', 'particularli', 'men', 'pleased.', 'unseen', '_robin_', 'brew', 'stopped.', 'combin', 'overtak', 'vehicl', 'agreeabl', 'basin', 'xix', 'shiver', 'tabl', 'inebrieti', 'undaunt', 'master', 'contend', 'guest', 'bed', 'accept', 'tan', 'reign', '_chaperon_', 'amusement.', 'told', 'satisfi', 'encount', 'everywhere.', 'warmli', 'various', 'stagnat', 'upstart', 'wherev', 'exhibit', 'before.', 'suitabl', 'gloom', 'diffid', 'fairfax.', 'widow', 'dew', 'world.', 'alderney', 'civil', 'own', 'self-approb', 'more', 'secured.', 'clover', 'overthrow', 'seclud', 'festiv', 'impli', 'meal.', 'reckon', 'up.', 'uncertain', 'date', 'lay', 'suck', 'energi', 'broad', 'blame', 'husband', 'motiv', 'brain', 'adjoin', 'enclos', 'dinner-tim', 'trade', 'grand-mama', 'concept', 'shill', 'anxieti', 'spent', 'coldest', 'pink', 'usual', 'voic', 'head', 'oxford', 'clergyman', 'whenc', 'characterist', 'sixpenc', 'cattl', 'asper', 'assail', 'prais', 'arrow', 'kiss', 'serious', 'for.', 'dissenti', 'uncommon', 'clayton', 'lane', 'account', 'acquaint', 'fish', '_invite_', '_mrs_', 'tradesman', 'tenaci', 'doatingli', 'stipul', 'sore', 'abomin', '_doubts_', 'indubit', 'sauci', 'reanim', 'product', 'govern', 'return', 'lament', 'randal', 'front', 'live', 'eaten', 'fearless', 'system', 'once.', 'pembrok', 'insignific', '_and_', 'least', 'idea', 'amazingli', 'forfeit', 'emin', 'advic', 'unkind', 'law', 'well-built', 'nobodi', 'limb', 'over-salt', 'earliest', 'wrist', 'altar', 'bosom', 'medley', 'sober', 'm.', 'experienc', 'hill', 'road', 'stori', 'pupil', 'refinement.', 'deal', 'beauti', 'delight.', 'unfrequ', 'well-judg', 'readiest', 'leave-tak', 'grief', 'shrug', 'scrupl', 'dri', 'accommod', 'unperceiv', 'sea-bath', 'ajar', 'wife', 'glori', 'failur', 'slightingli', 'self-examin', 'hop', 'express', 'blockhead', '_own_', 'beau', 'pud', 'imaginist', '[', 'blunder', 'seventeen', 'unmix', 'antidot', ']', 'storm', '_there_', 'brief', 'irrat', 'detain', 'hum', 'how', 'room', 'womanli', 'confus', 'militari', 'happili', 'coach', 'on', 'discret', 'discontinu', 'stilton', 'save', 'of.', 'mirth', 'constant', 'hesitated.', 'grievanc', 'rapid', 'wholesom', 'infam', 'trifl', 'engraft', 'depriv', 'limit', 'seiz', 'star', 'bearer', 'reject', 'femal', 'indignantli', 'whole', 'downstair', 'advoc', 'appendag', 'wild', 'patronag', 'syllabl', 'genteel', 'discourag', 'in.', 'bailiff', 'currant', 'follow', 'assembl', 'absenc', 'pleasantest', 'goodwil', 'judgment', 'rid', 'victim', 'ride.', 'themselves.', 'forty-eight', 'wants.', 'is', 'perfectly.', 'dint', 'practis', 'guess.', 'piti', 'gener', 'forward.', 'card-room', 'necessari', 'event.', 'path', 'red', 'sleepless', 'puppyism', 'ford', 'power.', 'procrastin', 'modestli', 'conquest', 'wa', 'absurd', 'proud', 'captain', 'aye', 'sacrif', 'brighten', 'descript', 'consultation.', 'foolish', '_bath_', 'money', 'harmoni', 'remedi', 'watch', 'earli', 'saw', 'gloss', 'void', 'absorb', 'anecdot', '_lady_', 'secondli', 'counten', 'worn', 'but', 'handsom', 'entrap', 'xiv', 'done.', 'implant', 'cotton', 'irrit', 'cook', 'period', 'way', 'charade.', 'unpretti', 'which', 'lowli', 'irresistible.', 'bed-tim', 'breath', 'treat', 'harden', 'shop', 'arthur', 'begin', 'elder', 'adher', 'exquisit', 'violenc', 'veil', 'to-day', 'lamp', 'emma.', 'own.', 'at', 'woodhous', 'accident', 'laurel', 'measur', 'caress', 'tone', 'surrend', 'bloom', 'arch', 'impart', 'outliv', 'especi', 'vi', 'tea', 'heir', 'brilliant', 'simple-mind', 'antagonist', 'gentlemanlik', '_had_', 'sweetli', 'appreci', '_understand_', 'augment', 'softer', 'enlighten', 'repugn', 'nail', 'head-ach', 'squar', 'surpriz', \"''\", 'entertain', 'northward.', 'orchard', 'needlessli', 'gentli', 'neighbourhood', 'untaint', 'carte-blanche.', 'recommend', 'plainli', 'conclud', 's.', 'prudenc', 'ill-fam', 'sunshin', 'soup', 'twilight', 'dispens', 'effort', 'restless', 'reprov', 'dentist', 'news', 'misconcept', 'ill.', 'foundat', 'goos', 'unsaf', 'uneasi', 'belov', '!', 'parish', 'have', 'vain.', 'fine', 'owe', 'goodwill.', 'distrust.', 'evil.', 'xvi', 'worri', 'overhear', 'small-siz', 'vigor', 'rung', 'smith', 'me', 'important.', 'pocket-book', 'tautolog', 'mule', 'unab', 'exact', 'when', 'gain', 'w.', 'nothing.', 'carelessli', 'hotter', 'argument', 'withdrawn', 'unjust', 'speech', 'stretch', 'colder', 'off', '_we_', 'footstep', 'rose', 'afraid', 'gratified.', '_two_', 'slave', 'vouchsaf', 'second-r', 'depress', 'sound', 'post', '_dixon_', 'slowli', 'visit', 'exercis', 'sad', 'penit', 'threaten', 'waltz', '_names_', 'pillar', 'move', 'devis', 'hasten', 'match-mak', 'fit', 'orphan', '`', 'hay', 'corn', 'cheerful', 'proudli', 'think', 'hundr', 'vocal', 'thoughts.', 'glow', 'multipli', '_is_', 'subsequ', 'partli', 'carrot', 'stuck', 'confin', 'seven', 'two', 'brotherli', 'broadway', 'overcam', 'deedili', 'goldsmith', 'mud', 'stream', 'welch', 'instantli', 'tire', 'expedit', 'my', 'half-gentlemen', 'yesterday', 'sanction', 'sorri', 'uncl', '_courtship_', 'loin', 'spruce', 'ill-usag', 'scholar', 'head.', 'butcher', '_dixons_', 'outward', 'other.', 'ceas', 'literatur', 'sourc', 'soon', 'order', 'thou', 'torment', 'arrog', 'odditi', 'gracious', 'honour', 'unbleach', 'sweetbread', 'seal', 'deplor', 'music', 'claim', 'spoilt', 'moreov', 'rest.', 'wholli', 'far', 'unsteadi', 'inimit', 'cottag', 'matter-of-fact', 'correspond', 'wicked', 'entertainingli', \"fairfax's.\", 'exclam', 'prevail', 'irish', 'conviction.', \"n't\", 'making-up', 'sympathi', 'shook', 'quarrelled.', 'princ', 'emul', 'suddenli', 'unadorn', '_then_', 'portfolio', 'chili', 'safeti', 'colonel', 'surviv', 'degree.', 'suppress', 'scene', 'ornament', 'michaelma', 'cooper', 'throughout', 'bounti', 'kitchen', 'land', 'heartfelt', 'honourable.', 'middl', 'writer', 'sweep-gat', 'drank', 'happi', 'nestl', 'relat', 'hyperbol', 'warm', 'observ', 'errant', 'threw', 'sept.', 'dinner-compani', 'prettili', 'sacr', 'anger', 'prescrib', 'ireland', '_i_', 'outre', 'distinguish', 'attach', 'train', 'umbrella', 'subject', 'transplant', 'routin', 'dissatisfact', 'uncheck', 'walker', 'blow', 'complimentari', 'person', 'naivet', 'contempt', 'braithwait', 'final', 'calcul', 'church', 'gravel', 'estat', 'well-do', 'instant', 'somewhere.', 'dare', 'xiii', 'ill-dispos', 'injur', 'comment', 'confer', 'confidenti', 'stay', 'beforehand', 'strawberry-b', 'himself', 'proof', 'calmer', 'felic', 'known.', 'mean.', 'distrust', 'country-d', 'rise', 'slyness', 'ahead', 'gentlemen', 'bread', 'guilti', '_nearer_', 'gratif', 'graham', 'aspect', 'qualifi', 'curs', 'establish', 'concess', 'fullest', 'smooth.', 'apolog', 'notch', 'seizur', 'noisi', 'messeng', 'card', 'weekli', 'unwil', 'act', 'maid', 'insult', 'deaf', \"king's-weston\", 'ladi', '_______', 'driven', 'patient', 'punctual', 'agre', 'clear', 'salt', 'conduc', 'conciliating.', '_them_', 'carpet-work', 'gentl', 'monday', 'creat', 'taylor', 'both', 'stoke', 'midst', 'sport', 'main', 'chais', 'less', 'upright', 'anyth', 'tacitli', 'half-whisp', 'desir', 'did', 'ruin', 'attend', 'same', 'safer', 'extenu', 'immens', 'record', 'thu', 'miniatur', 'softli', 'discern', 'awar', '_a_', 'intreat', 'ignor', 'unfelt', 'left', 'these', 'insuffer', 'hinder', 'lucki', 'dryness', 'tender-heart', 'partner', 'workmen', '_precious_', 'physician', 'trebl', 'obtain', 'opinion.', 'novelti', 'impartiality.', 'triumphant', 'stoutli', 'pastur', 'unpermit', 'boarding-school', 'spencer', 'insepar', 'state', 'commonest', 'parlour', 'legal', 'misbehav', 'forbad', 'deaden', 'different.', 'dignifi', 'crown', 'helpmat', 'half-syl', 'look', 'fancy-work', 'tri', '_taylor_', 'motion', 'low', 'children', 'liveli', 'misspent', 'breast', 'februari', 'quaint', 'pedal', 'issu', 'shabbi', 'full', 'privileg', 'boy', 'lend', 'graver', 'standers-bi', 'well-behav', 'counsellor', 'joint', 'villag', 'instinct', 'rumour', 'unceremoni', 'cap', 'never', 'directly.', 'egg', 'dispos', 'unfinish', 'unit', 'seldom', 'partial', 'warfar', 'coars', 'dirt', 'expect', 'help', 'thanker', 'large-s', 'town', 'whoever', 'lieut', 'dish', 'expert', 'good-humouredli', 'party.', 'housemaid', 'quarto', 'passion', 'favourable.', 'spaciou', 'passed.', 'rough', 'twist', '_sacrifice_', 'import', 'defi', 'rent', 'bristol', 'convivi', 'mine.', 'hot-press', 'check', 'appli', 'inflam', 'imaginari', 'resign', 'descri', 'mama', 'second', 'replet', 'f', 'sight', 'prompt', 'vanish', 'command', 'cheer', 'famili', 'greet', 'tune', 'entre', 'half-boot', 'nought', 'daughter-in-law', 'curiosity.', 'sudden', 'made', 'foresaw', 'accustom', 'ill', 'unheard', 'confeder', 'engag', 'touch', 'improp', 'ground', 'birth', 'unprovid', 'risks.', 'vain', 'valu', 'worth', 'dining-parlour', 'self-consequ', 'stolen', 'wet', 'could', 'sparkl', 'folding-screen', 'hungri', 'lie', 'commonplac', 'would', 'neptun', 'cake', 'epithet', 'side', 'blind', 'outrag', 'indecis', 'allevi', 'ennui', 'round', 'brisk-mov', 'societi', '_me_', '_secret_', 'convict', 'imparti', 'pork', 'rare', 'rubber', 'vicin', 'open-hearted', 'humour', 'thousand', 'stationari', 'groundwork', 'absent', 'exceed', 'there.', 'ripen', 'solid', 'linen-drap', 'pollard', '_promise_', 'retract', 'ungener', '_half_', 'am', 'gratefully.', 'escap', 'absolut', 'slumber', 'develop', 'rememb', 'pool', 'infanc', 'unhappi', 'assent', 'puppi', 'heedless', 'sort.', 'refresh', 'purchas', 'illiter', 'extent', 'campbells.', 'bottom', 'trident', 'gradat', 'consent', 'capit', 'interchang', 'fineri', 'strength', '8th', 'alphabet', 'decept', 'unfriendli', 'passant', 'adventur', 'indefinit', 'aunt', 'lime', 'palpabl', 'gone', 'performance.', 'acquir', 'career', 'might.', 'clara', 'steadiest', 'pace', 'abbot', 'event', 'whatev', 'begin.', 'water-colour', 'cur', 'resourc', 'poet', 'indignantly.', 'mansion', 'discours', 'embrac', '_evening_', 'remiss', 'drug', '_any_', '_dissolved_', 'drain', 'brace', 'jealousi', 'cockad', 'constern', 'besid', 'thought.', 'modest', 'reprob', 'dress', 'body.', 'wore', 'seasid', 'built', 'awak', 'surmis', 'improperli', 'unment', 'seriou', 'mild', 'grate', 'fourth', 'observe.', 'earnestli', 'dispirit', 'troubl', 'twenty-seven', 'those', 'first', 'disengag', 'unknown.', 'rob', 'occup', 'acced', 'honestli', 'ador', 'vener', 'surround', 'dimens', 'dirti', 'hartfield', 'lot', 'plainest', 'dublin', 'essay', 'fright', 'shrubbery.', 'game', 'decis', 'scout', 'distanc', 'unbecom', 'cromer', 'elbow', 'rank', 'build', 'safe.', 'ballroom', 'discompos', 'oyster', 'spread', 'chose', 'sway', 'complac', 'yes.', 'nurseri', 'close', 'sphere', '_marry_', 'wine', 'standard', 'unfeignedli', 'ru', \"harriet's.\", 'fragranc', 'more.', 'despis', 'herself.', 'to-night', 'blank', 'flame', 'greater', 'defianc', 'elev', 'agreement', 'unaccount', 'intimaci', 'stout', 'forswear', 'thwart', 'repaid', 'indisput', 'injunct', 'instead', 'below', 'studi', 'inferior', 'christen', 'connect', 'promis', 'broke', 'nine', 'removal.', 'true.', 'talent', 'fatigu', '_just_', 'perus', 'defin', 'unfit', 'rout-cak', 'incommod', 'thrown', 'familiaris', 'ride', 'creep', 'bia', 'undoubtedli', 'habitu', 'xviii', 'surpass', 'degre', 'fear', 'mental', 'emma', 'whist-club', 'lighter', 'inevit', 'tuesday', 'expens', 'disturb', 'forlorn', 'eye', 'shrubberi', 'transport', 'slap', 'accomplish', 'mistress', 'shift', 'n.', 'unequ', 'song', 'engaged.', 'self-deceiv', 'figur', '_times_', 'satisfied.', 'father.', 'undecid', 'brown', 'wednesday', 'wed', 'undergo', 'astonishment.', 'met', 'tremor', '_rev._', 'dupe', 'featur', 'purpos', 'spleen', 'friendship', 'effect', 'provid', 'resolved.', 'otherwis', 'favourit', '_presume_', 'forti', 'recit', 'sequel', 'right-mind', 'nervou', 'ampli', 'debt', 'pretty-behav', 'feed', '_here_', 'hush', 'luck.', 'discoveri', 'park', 'spurn', 'england', 'contract', 'together.', 'conquer', '_mediocre_', 'strong', 'strawberry-beds.', 'wainscot', 'greas', 'fopperi', 'sooth', 'sister', 'usher', '_accepted_', 'float', 'artless', 'conjug', 'hear', 'presid', 'construct', 'loth', 'wealth', 'battl', 'avow', 'matter.', 'l.', 'examin', 'remonstr', 'insight', 'glee', '_source_', 'improv', 'shower', 'scallop', 'unfair', 'best-judg', 'hearti', 'shock', 'amus', 'other', 'bye', 'deviat', 'narr', 'speech.', 'faster', 'heiress', 'wind', 'fenc', 'unlucki', 'wedding-present.', 'common', 'oblig', 'extent.', 'ungal', 'drawer', 'choic', 'welfar', 'valuabl', 'ate', 'cloud', 'good-natur', 'quarrelsom', 'bench', 'thirteen', 'canvass', 'deathb', 'dispers', 'haberdash', 'simpli', 'roast', 'acrost', 'staircas', 'liter', 'none', 'harshli', 'compos', 'waiv', 'portrait', 'easili', 'now.', 'glare', 'idlest', 'luck', 'onli', 'magistr', 'wheat', 'public', 'exclud', 'accord', 'decorum', 'bestow', 'evid', 'himself.', 'pressingli', 'god', 'post.', 'perry.', 'interpret', 'prepar', 'langham', 'come', 'goodnatur', 'mad.', 'three', 'assum', '_her_', 'cipher', 'warrant', 'happy.', 'sign', 'access', 'drawback', 'saunter', 'enlarg', 'satin', 'disinterest', 'understanding.', 'sound.', 'unhealthi', 'teach', 'knightley.', 'door', 'insuffici', 'refut', 'lighten', 'motionless', 'welcom', 'scorn', 'extravag', 'us', 'cabbage-b', 'sitting-room', 'sour', 'enough', 'jame', 'band', 'forth', 'adapt', 'obtrud', 'correctli', 'distant.', 'baker', 'hope.', 'errand', 'over-pow', 'heap', 'skin', 'behav', 'defend', 'coachmen', 'speed', 'urban', 'aright', 'free', 'twenty-four', 'badli', 'unexampl', 'farthest', 'broil', 'agoni', 'seat', 'agit', 'fever', '_boiled_', 'precis', 'we', 'back', 'sorts.', 'arm-in-arm', 'good-wil', 'mutton', 'heart', 'place.', 'nerv', 'fortuit', 'melodi', 'polit', 'quicksight', 'eccentr', 'deleg', 'ceaseless', 'leagu', 'civility.', 'dissip', 'chiefli', 'ascertain', 'well.', 'abbey', 'putrid', 'preface.', 'unpersuad', 'toss', 'fold', 'cough', 'lean', '_who_', 'enhanc', 'statement', 'properest', 'displeas', 'kindest', 'empti', 'life', 'fond', 'prospect', 'requisit', 'la', 'motherli', 'sin', 'produc', 'loudli', 'dog', 'boil', 'merri', 'grandmoth', 'reassembl', 'expressli', 'fli', 'capric', 'applic', 'pantri', 'well-mean', 'accru', 'busi', 'distinct', 'ix', 'lift', 'handwrit', 'outwardli', 'square.', 'take', 'superior', 'commend', 'break', 'loser', 'remembr', 'goodli', 'probabl', 'coolli', 'fortnight', 'attitud', 'hindranc', 'fall', 'involuntarili', 'he', 'seemingli', 'excit', 'certain', 'mortals.', 'pomp', 'come-at-', 'justifi', 'vigour', 'it', 'furnitur', 'well', 'grandeur', 'urge.', \"ford's.\", 'subsid', 'mickleham', 'declin', 'fast', 'whom', 'imperfect', 'fondli', 'reput', 'window', 'blue', 'clearli', 'lavish', 'dryli', 'tart', 'methodical.', 'nourish', 'themselv', 'humourist.', 'apple-tre', 'caution', 'f.', 'cavil', 'bear', 'ostent', 'doctrin', 'recollect', 'satisfactori', 'amend', 'cream', 'even', 'mat', '_should_', 'delin', 'window-curtain', 'danger', 'broth', 'resort', 'resolv', 'die', 'steadi', 'appar', 'given', '_patriae_', 'laid', 'unansw', 'awkward', 'buri', 'expected.', 'hour', 'surprize.', 'fairy-land', 'substitut', 'tete-a-tet', 'fellow-mourn', 'christian', 'upon', 'clifton', 'well-ti', 'former', 'home', 'wash', 'unsulli', 'blend', 'word.', 'wors', 'honesti', 'elderli', 'ii', 'shewn', 'patch', 'integr', 'debas', 'map', 'privat', 'evas', 'guard', 'administ', 'hodg', 'short', 'conundrum', 'covert', 'trim', '28th', 'depend', 'roundli', 'horseback', 'aghast', 'shrub', 'replied.', 'accumul', 'shape', 'neglect', 'principl', 'caution.', 'cut', 'pore', 'sang', 'mix', 'matrimoni', 'branch', 'observed.', 'inequ', 'impolit', 'vivac', 'ago.', 'ball', 'duti', 'knit', 'meat', 'flown', 'destroy', 'day.', 'prose', 'entreated.', 'insipid', 'concentr', 'time.', 'jane', 'trust', 'knock', 'apprehend', 'hopeless.', 'fat', 'undesir', 'gay', 'charit', 'exert', '_ten_', 'mill', 'design', 'differ', 'triumph', 'advantag', 'induc', 'lip', 'real', 'unfeign', 'extraordinari', 'idea.', 'eight-and-thirti', 'clownish', 'nearest', 'instantan', 'club-night', 'consequ', 'joke', 'sluggish', 'story.', 'wade', 'ult.', 'aton', 'prosperous.', 'single-mind', 'outgrown', 'receiv', 'aspir', 'retain', 'mis-judg', 'too', 'self', 'discreet', 'compassion', 'tell', 'fool', 'disappear', 'tray', 'vessel', 'airi', 'gaili', 'daili', '_each_', 'hesitatingli', 'quickest', 'fate', 'involved.', 'humil', 'approv', 'enemi', 'excuse.', 'among', 'suckl', 'aggress', 'good-temp', 'advertis', 'self-deni', 'materi', 'medic', 'gross', 'herself', 'eleg', 'nonsens', 'them', 'yeomanri', 'abl', 'sadli', 'complet', 'mum', 'foretel', 'fidget', 'surri', 'sale', 'unsettl', 'paused.', 'simpleton', 'bright', 'profit', 'disclosur', 'imag', 'overflow', 'root', 'farther', 'dismay', 'gentleman-farm', 'hesit', 'deepest', 'renew', 'interesting.', 'fairli', 'rate', 'flirtat', 'aloud', 'bandi', 'singularli', 'regret', 'forgotten', 'north-east', 'patti', 'languish', 'propriety.', 'inroad', 'inabl', 'aid', 'someth', 'children.', 'bell', 'provoc', 'some', 'stronger', 'brother-in-law', 'decent', 'degrad', 'inward', '_he_', 'price', 'qualities.', 'durabl', 'disput', 'abund', 'dream', 'medium', 'rode', 'ought', 'separate.', 'generos', 'constanc', 'address', '_both_', 'top', 'work', 'knight-errantri', 'solicitud', 'forget', 'cart', 'world', 'skil', 'you', 'purest', 'strike', 'eas', 'misappli', 'interior', 'incess', 'proposit', '_unreasonable_', 'politician', 'happier', 'oath', 'impossible.', 'mention', 'hung', 'wholesome.', 'gainer', 'rescu', 'underr', 'worthi', 'lock', 'drink', 'jealou', 'partridg', 'inexperi', 'you.', 'ready-furnish', 'large.', 'muslin', 'rais', 'custard', '&', 'smile', 'peculiar', 'easier', 'candlelight', 'unattend', 'suit.', 'black', \"'d\", 'indispens', 'pitch', 'blot', 'retent', 'wear', 'half-year', 'purpl', 'melancholi', 'impati', 'gate', 'otways.', 'bravado', 'quickli', 'unabl', 'judge.', 'crowd', 'appear', 'prematur', 'artist', 'half-asham', 'scrupul', 'now', 'divis', 'soft-heart', 'custom', 'dies.', 'alarm.', 'undoubt', 'sullen', 'rivet', 'greatcoat', 'c.', 'overcom', 'funer', 'workbasket', 'sleep', 'poplin', 'sooner', 'drift', 'gratitud', 'smarten', 'apprehens', '_introduction_', 'checker-work', 'ditch', 'project', 'retreat', 'unpardon', 'overr', 'offend', 'moder', 'temper', 'show', 'decemb', 'cheap', 'graviti', 'bent', 'oftentim', 'fairi', 'need', 'prevent', 'duli', 'pre-arrang', 'lost', 'warmth', 'prophet', 'letter-boy', 'gradual', 'astonish', '_must_', 'timid', 'transgress', 'inspir', 'espionag', 'splendour', 'gentlewoman', 'mute', 'pointedli', 'inattent', 'dash', 'deep', 'base', 'allud', 'though', 'open-heart', 'candl', 'taught', 'sent', 'alli', 'fair.', 'imprud', 'saturday', 'hid', 'anoth', 'impass', 'sir.', 'wast', 'solemnli', 'sweep', 'forerunn', 'comfort.', 'rheumat', 'couplet', 'candid', 'spot', 'cry-out', 'gallant', 'afloat', 'silent', 'heighten', 'place', 'cameo', 'selv', 'attorney', 'button', 'cordial', '_some_', 'angl', 'poorli', 'insidi', 'artifici', 'unexamin', 'sitters-bi', 'numer', 'odd-temp', 'medal', 'detail', 'silenc', 'freak', 'forese', 'instruct', 'good-breed', 'random', 'school-girl', 'frighten', 'fire', '_man_', 'confirm', '_most_', 'quick', 'madam', 'circul', 'hazl', 'plan', 'insens', 'drudg', 'chat', 'expir', 'ingeni', '_they_', 'disagr', 'apologis', 'labour', 'harri', 'parentag', 'lime-walk', 'bend', 'foot-pac', 'popular', 'afford', 'careless', 'father', 'overcharg', 'abolit', 'bang', 'footpath', 'would-b', 'curiou', 'call', 'daringli', 'direct', 'bash', 'doer', 'perceiv', 'glimps', 'butler', 'anywher', 'unknown', 'congratul', 'tribut', 'stupidest', '_woodhouse_', 'untowardli', 'cow', 'tremul', 'unconcern', 'stale', 'immedi', 'backgammon.', 'handl', 'process', 'intercours', 'exce', 'stain', 'clock', 'exceedingli', 'fallen', 'hetti', 'alarming.', 'penetr', 'must.', 'charmed.', 'proprieti', 'richest', 'put-to', 'background', 'the', 'here', 'happiness.', 'view', 'straightforward', 'enter', 'fraud', 'comprehend', 'keen', 'pretenc', 'are', 'sash', 'concert', 'lain', 'hereabout', 'thi', 'solac', 'whisper', 'rescue.', 'she', 'recent', 'embarrassment.', 'provis', 'moderate-s', 'time', 'meanli', 'flight', 'support', 'autumn', 'ill-tim', 'minor', 'kill', 'rival', 'catch', 'circumst', 'merit', 'not.', 'dreamer', 'compli', '_mr_', 'erect', 'gift', 'oneself', 'undu', 'distant', 'note', 'prone', 'boyish', 'restrain', 'wanton', 'astley', 'ten', 'interest', 'sink', 'grace', '_answer_', 'wind.', 'neg', 'temporari', 'affront', 'six-and-thirti', 'ungrat', 'fondl', 'startl', 'bates.', 'darker', 'wallis', 'minc', 'rejoic', 'encroach.', 'disgustingli', 'eight', 'pearl', 'familiar', 'happiest', 'mount', 'rich', 'vacant', 'closer', 'shake', 'peremptorili', 'devoid', 'spare', 'blossom', 'wretch', 'column', 'plenti', 'damp', 'servic', 'intellect', '_engagement_', 'laughing.', 'french', 'food', 'nois', 'unbias', 'companion', 'scream', 'loud', 'aros', 'green', 'suspicions.', 'scarlet', 'efficaci', 'condemn', 'goodhumour', 'aunt.', 'preserv', 'latterli', 'listen', 'pervers', 'unsentiment', 'madeira', 'cold', 'disinclin', 'grandpapa', 'draught', '_did_', 'scheme', 'toward', 'market', 'iron', 'certifi', 'languor', 'mathematician', 'reveri', 'barn', 'puddl', 'resum', 'passiv', 'repli', 'finish', 'unexception', 'instig', 'speck', 'improvid', 'unsuspect', 'prohibit', 'riddl', 'liquor', 'tenderli', 'wide', 'catherin', 'impair.', 'testifi', 'noth', 'abbey-mil', 'civilli', 'briskli', 'anticip', 'remind', 'georg', 'accordingli', 'river', 'compass', 'pale', 'midsumm', 'unfastidi', '_appropriation_', 'pigeon-pi', 'spinet', 'arisen', 'regul', 'scanti', 'contriv', 'sheep', 'smiled.', '_his_', 'bell-ring', 'campbel', 'backward', 'suggest', 'misfortune.', 'shoe', 'hither', 'disinterested', 'light', 'doubt', '_my_', 'longest', 'slope', 'profus', 'longer.', 'sincer', 'format', 'vindic', 'death', 'exhaust', '_great_', 'undiscern', 'conscience-stricken', 'propos', 'ordinari', 'existence.', 'popul', 'consumpt', 'angri', 'willingli', 'tunbridge-war', 'proclaim', 'sens', 'alter', 'miss', 'uneasiness.', 'undistinguish', 'visitor', 'owner', 'heal.', 'intent', 'achiev', 'unemploy', 'freedom.', 'go.', 'select', 'tender', 'thing.', 'appeas', 'well-known', 'vault', 'north', 'recollect.', 'engagement.', 'weakli', 'understand.', 'others.', 'visibl', 'replac', 'implicitli', 'old-fashion', 'cramer.', 'error', 'inquietud', 'sack', 'plea', 'directli', 'mutter', 'sky', 'restrict', 'draw', 'curios', 'desper', 'fight', 'sacrific', 'bushel', 'adequ', 'untouch', 'gloomi', 'despair', 'moralis', 'constrain', 'lead.', 'host', 'italian', 'denot', 'commun', 'conting', 'self-satisfi', 'dinner-parti', 'sister-in-law', 'execut', 'messag', 'subject.', 'marri', 'mrs.', 'also.', 'mid-day', '_were_', '_wish_', 'drawn', '_well_', 'thousands.', 'blameabl', 'puzzl', 'by', 'remaind', 'up', 'homeward', 'doubli', 'bid', 'morn', 'heritag', 'ice', 'erron', 'understood', 'modern', 'soften', 'prosper', 'shade', 'sought', 'service.', 'preparatori', 'biscuit', 'summon', 'plead', 'king', 'scoundrel', 'girl', '_our_', \"se'nnight\", 'bond-street', 'inspect', 'peculiarli', 'cloak', 'tendenc', 'provinc', 'slacken', 'play', 'conceit', 'mantelpiec', 'fri', 'she.', 'kindl', 'right.', 'griev', 'larger', 'omiss', 'stokes.', 'linger', 'noviti', 'feverish', 'most', 'behaviour', 'unfavour', 'sharp', 'make', 'condol', 'uncertainti', 'firmli', 'objection', 'xvii', 'larkin', 'exult', 'enliven', 'stranger', 'hawkin', 'unseason', 'reverse.', 'curtain', 'palpit', 'alarm', 'likeliest', 'attack', 'seek', 'coffe', 'disrespect', 'abid', 'thirti', 'freed', 'environ', 'down', 'mr.', 'ill-assort', 'wiltshir', 'forward', 'discord', 'ineleg', 'deriv', 'overcar', 'wretched', 'reserv', 'clear-sight', 'falsehood'}\n"
     ]
    }
   ],
   "source": [
    "# put your code here\n",
    "stemmer = nltk.PorterStemmer()\n",
    "stems = set()\n",
    "for s in emma_sents:\n",
    "    for w in s:\n",
    "        stems.add(stemmer.stem(w))\n",
    "print(len(stems), stems)"
   ]
  },
  {
   "cell_type": "markdown",
   "metadata": {},
   "source": [
    "### (Optional) Exercise 2.4\n",
    "*What is the most ambiguous stem in Austen's \"Emma\"? (meaning, which stem in Austen's \"Emma\" is realised in the largest number of distinct tokens?)*"
   ]
  },
  {
   "cell_type": "code",
   "execution_count": 52,
   "metadata": {},
   "outputs": [
    {
     "name": "stdout",
     "output_type": "stream",
     "text": [
      "('respect', {'respectable', 'respectably', 'respectability', 'respected', 'respect', 'respecting', 'respective', 'Respect', 'respectful', 'respects', 'respectfully'}) 11\n"
     ]
    }
   ],
   "source": [
    "# put your code here\n",
    "stemmer = nltk.PorterStemmer()\n",
    "stem = dict()\n",
    "\n",
    "for s in emma_sents:\n",
    "    for w in s:\n",
    "        stemmed = stemmer.stem(w)\n",
    "        if stemmed not in stem:\n",
    "            stem[stemmed] = set([w])\n",
    "        else:\n",
    "            stem[stemmed].add(w)\n",
    "\n",
    "# 2. Find most ambiguous stem\n",
    "most_ambiguous = None\n",
    "max_count = 0\n",
    "for s in stem:\n",
    "    if len(stem[s]) > max_count:\n",
    "        max_count = len(stem[s])\n",
    "        most_ambiguous = (s, stem[s])\n",
    "\n",
    "print(most_ambiguous, max_count)"
   ]
  },
  {
   "cell_type": "markdown",
   "metadata": {},
   "source": [
    "# 3. Post-practical questionnaire\n",
    "\n",
    "Please complete the week 7 post-practical questionnaire on iLearn."
   ]
  }
 ],
 "metadata": {
  "anaconda-cloud": {},
  "kernelspec": {
   "display_name": "comp3420",
   "language": "python",
   "name": "python3"
  },
  "language_info": {
   "codemirror_mode": {
    "name": "ipython",
    "version": 3
   },
   "file_extension": ".py",
   "mimetype": "text/x-python",
   "name": "python",
   "nbconvert_exporter": "python",
   "pygments_lexer": "ipython3",
   "version": "3.11.13"
  }
 },
 "nbformat": 4,
 "nbformat_minor": 2
}
